{
 "cells": [
  {
   "cell_type": "markdown",
   "metadata": {},
   "source": [
    "# NIDS based on Regular Expressions\n",
    "\n",
    "This second part in the workshop handles NIDS that are based on regular expressions (regex). Regexes are used to determine whether or not a certain pattern is present in a string or not. We will rely on the Python module **re** to achieve regex matching."
   ]
  },
  {
   "cell_type": "markdown",
   "metadata": {},
   "source": [
    "## Getting started\n",
    "\n",
    "Let's try to approach this with a little example. The input string for the example will be: **the quick brown fox jumps over the lazy dog**. The pattern that we will look for is written as a regular expression.\n",
    "\n",
    "The message that we are assuming is a *pangram* which is a sentence that contains each the letter of the English alphabet. The example below will check if the pattern \"a\" matches with the message.\n",
    "\n",
    "**Try to determine the outcome of the (possible) match and then execute the code to see if you are right.**"
   ]
  },
  {
   "cell_type": "code",
   "execution_count": 2,
   "metadata": {},
   "outputs": [
    {
     "name": "stdout",
     "output_type": "stream",
     "text": [
      "This pattern does not match\n"
     ]
    }
   ],
   "source": [
    "import re\n",
    "\n",
    "message = \"the quick brown fox jumps over the lazy dog\"\n",
    "\n",
    "result = re.match(\"a\", message)\n",
    "\n",
    "if result:\n",
    "    print(\"This pattern matches\")\n",
    "else:\n",
    "    print(\"This pattern does not match\")"
   ]
  },
  {
   "cell_type": "markdown",
   "metadata": {},
   "source": [
    "The result of the example might surprise you, as there definitely is an *a* in the message. Nonetheless, the pattern doesn't match. The only message which would match this is regex is the message \"a\"."
   ]
  },
  {
   "cell_type": "markdown",
   "metadata": {},
   "source": [
    "If we would like to know if the message contains an \"a\" we should take into account that other letters might be before of after the \"a\". This can be done with a *wildcard*. The character . (a dot) matches any given character/number/space/... The next thing that we need to overcome is the position of \"a\" in the message."
   ]
  },
  {
   "cell_type": "code",
   "execution_count": 15,
   "metadata": {},
   "outputs": [
    {
     "name": "stdout",
     "output_type": "stream",
     "text": [
      "This pattern matches\n"
     ]
    }
   ],
   "source": [
    "message = \"the quick brown fox jumps over the lazy dog\"\n",
    "regex   = \"....................................a\"\n",
    "\n",
    "if re.match(regex, message):\n",
    "    print(\"This pattern matches\")\n",
    "else:\n",
    "    print(\"This pattern does not match\")"
   ]
  },
  {
   "cell_type": "markdown",
   "metadata": {},
   "source": [
    "Luckily there is also a shorthand way for writing this. The character * (an asterisk) stands for **zero or more occurences of the preceding element**."
   ]
  },
  {
   "cell_type": "code",
   "execution_count": 14,
   "metadata": {},
   "outputs": [
    {
     "name": "stdout",
     "output_type": "stream",
     "text": [
      "This pattern matches\n"
     ]
    }
   ],
   "source": [
    "# If we have run the code above, the variable \"message\" is already set.\n",
    "# There is no need to repeat that.\n",
    "regex = \".*a\"\n",
    "\n",
    "if re.match(regex, message):\n",
    "    print(\"This pattern matches\")\n",
    "else:\n",
    "    print(\"This pattern does not match\")"
   ]
  },
  {
   "cell_type": "markdown",
   "metadata": {},
   "source": [
    "Before you start exploring with regexes, a couple more of notations are given below. Note that these can be combined !!\n",
    "\n",
    "<center>\n",
    "<img src=\"images/10_regextable.png\"/>\n",
    "</center>\n",
    "\n",
    "Now ... let's practice by completing the regexes below:"
   ]
  },
  {
   "cell_type": "code",
   "execution_count": 18,
   "metadata": {},
   "outputs": [
    {
     "name": "stdout",
     "output_type": "stream",
     "text": [
      "This pattern matches\n"
     ]
    }
   ],
   "source": [
    "# must match if the message contains the number \"7\"\n",
    "regex = \".\"\n",
    "\n",
    "if re.match(regex, message):\n",
    "    print(\"This pattern matches\")\n",
    "else:\n",
    "    print(\"This pattern does not match\")"
   ]
  },
  {
   "cell_type": "code",
   "execution_count": 5,
   "metadata": {},
   "outputs": [
    {
     "name": "stdout",
     "output_type": "stream",
     "text": [
      "This pattern matches\n"
     ]
    }
   ],
   "source": [
    "# must match if the message contains an \"ox\"\n",
    "regex = \".\"\n",
    "\n",
    "if re.match(regex, message):\n",
    "    print(\"This pattern matches\")\n",
    "else:\n",
    "    print(\"This pattern does not match\")"
   ]
  },
  {
   "cell_type": "code",
   "execution_count": 7,
   "metadata": {},
   "outputs": [
    {
     "name": "stdout",
     "output_type": "stream",
     "text": [
      "This pattern matches\n"
     ]
    }
   ],
   "source": [
    "# must match if the message contains a space \" \"\n",
    "regex = \".\"\n",
    "\n",
    "if re.match(regex, message):\n",
    "    print(\"This pattern matches\")\n",
    "else:\n",
    "    print(\"This pattern does not match\")"
   ]
  },
  {
   "cell_type": "code",
   "execution_count": 22,
   "metadata": {},
   "outputs": [
    {
     "name": "stdout",
     "output_type": "stream",
     "text": [
      "This pattern does not match\n",
      "  match with message 1\n",
      "  match with message 2 (but it should not)\n",
      "  match with message 3\n"
     ]
    }
   ],
   "source": [
    "# must match if the animal is either a \"fox\" or a \"cat\"\n",
    "message1 = \"the quick brown fox jumps over the lazy dog\"\n",
    "message2 = \"the quick brown owl jumps over the lazy dog\"\n",
    "message3 = \"the quick brown cat jumps over the lazy dog\"\n",
    "regex = \".\"\n",
    "\n",
    "if (re.match(regex, message1)) and not(re.match(regex, message2)) and (re.match(regex, message3)) :\n",
    "    print(\"This pattern matches\")\n",
    "else:\n",
    "    print(\"This pattern does not match\")\n",
    "    if re.match(regex, message1):\n",
    "        print(\"  match with message 1\")\n",
    "    else:\n",
    "        print(\"  NO match with message 1\")\n",
    "    if re.match(regex, message2):\n",
    "        print(\"  match with message 2 (but it should not)\")\n",
    "    else:\n",
    "        print(\"  NO match with message 2\")\n",
    "    if re.match(regex, message3):\n",
    "        print(\"  match with message 3\")\n",
    "    else:\n",
    "        print(\"  NO match with message 3\")"
   ]
  },
  {
   "cell_type": "code",
   "execution_count": 26,
   "metadata": {},
   "outputs": [
    {
     "name": "stdout",
     "output_type": "stream",
     "text": [
      "This pattern does not match\n",
      "  match with message 1\n",
      "  match with message 2 (but it should not)\n"
     ]
    }
   ],
   "source": [
    "# must match if the message ENDS on \"dog\"\n",
    "message1 = \"the quick brown fox jumps over the lazy dog\"\n",
    "message2 = \"the quick brown dog jumps over the lazy fox\"\n",
    "regex = \".\"\n",
    "\n",
    "if (re.match(regex, message1)) and not(re.match(regex, message2)):\n",
    "    print(\"This pattern matches\")\n",
    "else:\n",
    "    print(\"This pattern does not match\")\n",
    "    if re.match(regex, message1):\n",
    "        print(\"  match with message 1\")\n",
    "    else:\n",
    "        print(\"  NO match with message 1\")\n",
    "    if re.match(regex, message2):\n",
    "        print(\"  match with message 2 (but it should not)\")\n",
    "    else:\n",
    "        print(\"  NO match with message 2\")"
   ]
  },
  {
   "cell_type": "markdown",
   "metadata": {},
   "source": [
    "<hr/>\n",
    "<center>\n",
    "Continue with the <a href=\"11_regexes.ipynb\">next notebook</a> in a new browser tab.<br/><br/>\n",
    "<img src=\"images/footer.png\"/>\n",
    "</center>"
   ]
  }
 ],
 "metadata": {
  "interpreter": {
   "hash": "916dbcbb3f70747c44a77c7bcd40155683ae19c65e1c03b4aa3499c5328201f1"
  },
  "kernelspec": {
   "display_name": "Python 3 (ipykernel)",
   "language": "python",
   "name": "python3"
  },
  "language_info": {
   "codemirror_mode": {
    "name": "ipython",
    "version": 3
   },
   "file_extension": ".py",
   "mimetype": "text/x-python",
   "name": "python",
   "nbconvert_exporter": "python",
   "pygments_lexer": "ipython3",
   "version": "3.8.10"
  }
 },
 "nbformat": 4,
 "nbformat_minor": 2
}
