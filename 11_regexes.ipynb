{
 "cells": [
  {
   "cell_type": "markdown",
   "metadata": {},
   "source": [
    "# Snort\n",
    "\n",
    "The reason why regular expressions are popular is that they are extremely powerful. The industry-standard for NIDS (and Network Intrusion Protection System (NIPS)) in software is [Snort](https://www.snort.org/). Snort uses roughly 3500 **rules** which filter malicious traffic. These rules are written in a regex-like way."
   ]
  },
  {
   "cell_type": "markdown",
   "metadata": {},
   "source": [
    "# Let's try to mimic\n",
    "One example rule of a Snort rule is:\n",
    "\n",
    "> alert tcp 192.168.x.x any -> 172.16.x.x 49535 (msg:”We won't allow this socket”; sid:1000002; rev:1;)\n",
    "\n",
    "In a more human language this could be (loosely) translate as\n",
    "\n",
    "> all **TCP** traffic that comes from an IP address with **192** and **168** as first bytes, and that comes from **any given port**; AND that goes **to** an IP address that starts with **172.16** to **port 49535** should be alerted to the security engineer"
   ]
  },
  {
   "cell_type": "markdown",
   "metadata": {},
   "source": [
    "The Snort software builds a set of regexes to match all its rules. Incoming traffic is then matched with all the regexes of the rule-set. \n",
    "\n",
    "It is important to understand that **tcp** already implies a number of things. As TCP is at the transport, it implies that the network layer is IPv4 (or IPv6 but that is left out of scope). \n",
    "\n",
    "One could be tempted to check byte number 24 in a frame. This byte defines which transport layer protocol is chosen. Although that is valid deduction, it is not complete. Byte number 24 only defines the transport layer protocol **IF** IPv4 is used as the networking layer protocol **AND** if Ethernet is used as the link layer protocol.\n",
    "\n",
    "![Decision flow](images/11_flow.png)\n",
    "\n",
    "The image above shows which evaluations have to take place and what the effect of the outcome of a decision has.\n",
    "\n",
    "Now let's try to achieve this in Python. First we start by loading all required variables. Don't forget to run this block prior to the rest."
   ]
  },
  {
   "cell_type": "code",
   "execution_count": 5,
   "metadata": {},
   "outputs": [],
   "source": [
    "from lib.dataset import NIDSDataset\n",
    "\n",
    "data_file = 'data/packets.npy'\n",
    "labels_file = 'data/labels.npy'\n",
    "\n",
    "dataset = NIDSDataset(data_file, labels_file)"
   ]
  },
  {
   "cell_type": "markdown",
   "metadata": {},
   "source": [
    "The next step is to distinguish which frames are TCP. Running the code below will tell you how many frames are analysed and how many of them are IPv4 frames and/or TCP frames."
   ]
  },
  {
   "cell_type": "code",
   "execution_count": 7,
   "metadata": {},
   "outputs": [
    {
     "name": "stdout",
     "output_type": "stream",
     "text": [
      "\n",
      "We've received 130 frames\n",
      "\tIPv4: 0 frames\n",
      "\t\tTCP: 0 frames\n"
     ]
    }
   ],
   "source": [
    "framecounter = 0\n",
    "number_of_ipv4_frames = 0\n",
    "number_of_tcp_frames = 0\n",
    "\n",
    "# loop over all datasets\n",
    "for d in dataset:\n",
    "\n",
    "    wordcounter = 0\n",
    "\n",
    "    # loop over all words\n",
    "    for word in d:\n",
    "        # examine Ethertype - in link layer header\n",
    "        # if the Ethertype field is not 0x0800, the frame is allowed\n",
    "                \n",
    "        # examine Protocol - in network layer header\n",
    "        # if the Protocol field is not 0x6, the frame is allowed\n",
    "\n",
    "        # examine Source Address - in network layer header\n",
    "        # if the first to source address fields are not 192 and 126,\n",
    "        #   the frame is allowed\n",
    "\n",
    "        # examine Destination Address - in network layer header\n",
    "        # if the first to destination address fields are not 172 and\n",
    "        #   16, the frame is allowed\n",
    "\n",
    "        # examine Destination port - in transport layer header\n",
    "        # if the destination port fields are not 49535, the \n",
    "        #   frame is allowed\n",
    "\n",
    "        # print(word, end='')\n",
    "        wordcounter += 1\n",
    "    \n",
    "    # end of iteration over words\n",
    "    framecounter += 1\n",
    "# end of iteration over datasets\n",
    "\n",
    "# print summary\n",
    "print(\"\\nWe've received %d frames\" % framecounter)\n",
    "print(\"\\tIPv4: %d frames\" % number_of_ipv4_frames)\n",
    "print(\"\\t\\tTCP: %d frames\" % number_of_tcp_frames)\n"
   ]
  },
  {
   "cell_type": "code",
   "execution_count": null,
   "metadata": {},
   "outputs": [],
   "source": [
    "framecounter = 0\n",
    "number_of_ipv4_frames = 0\n",
    "number_of_tcp_frames = 0\n",
    "\n",
    "decision_pass = 0\n",
    "decision_alert = 0\n",
    "\n",
    "# loop over all datasets\n",
    "for d in dataset:\n",
    "\n",
    "    wordcounter = 0\n",
    "\n",
    "    # loop over all words\n",
    "    for word in d:\n",
    "        # examine Ethertype - in link layer header\n",
    "        # if the Ethertype field is not 0x0800, the frame is allowed\n",
    "                \n",
    "        # examine Protocol - in network layer header\n",
    "        # if the Protocol field is not 0x6, the frame is allowed\n",
    "\n",
    "        # examine Source Address - in network layer header\n",
    "        # if the first to source address fields are not 192 and 126,\n",
    "        #   the frame is allowed\n",
    "\n",
    "        # examine Destination Address - in network layer header\n",
    "        # if the first to destination address fields are not 172 and\n",
    "        #   16, the frame is allowed\n",
    "\n",
    "        # examine Destination port - in transport layer header\n",
    "        # if the destination port fields are not 49535, the \n",
    "        #   frame is allowed\n",
    "\n",
    "        # print(word, end='')\n",
    "        wordcounter += 1\n",
    "    \n",
    "    # end of iteration over words\n",
    "    framecounter += 1\n",
    "# end of iteration over datasets\n",
    "\n",
    "# print summary\n",
    "print(\"\\nWe've received %d frames\" % framecounter)\n",
    "print(\"\\tIPv4: %d frames\" % number_of_ipv4_frames)\n",
    "print(\"\\t\\tTCP: %d frames\" % number_of_tcp_frames)\n",
    "print(\"\\nWe've decided\")\n",
    "print(\"\\tok frames: %d frames\" % decision_pass)\n",
    "print(\"\\talert frames: %d frames\" % decision_alert)"
   ]
  }
 ],
 "metadata": {
  "kernelspec": {
   "display_name": "Python 3 (ipykernel)",
   "language": "python",
   "name": "python3"
  },
  "language_info": {
   "codemirror_mode": {
    "name": "ipython",
    "version": 3
   },
   "file_extension": ".py",
   "mimetype": "text/x-python",
   "name": "python",
   "nbconvert_exporter": "python",
   "pygments_lexer": "ipython3",
   "version": "3.8.10"
  }
 },
 "nbformat": 4,
 "nbformat_minor": 2
}
