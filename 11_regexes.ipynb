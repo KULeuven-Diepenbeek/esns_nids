{
 "cells": [
  {
   "cell_type": "markdown",
   "metadata": {},
   "source": [
    "# Snort\n",
    "\n",
    "The reason why regular expressions are popular is that they are extremely powerful. The industry-standard for NIDS (and Network Intrusion Protection System (NIPS)) in software is [Snort](https://www.snort.org/). Snort uses roughly 3500 **rules** which classify and/or filter malicious traffic. These rules are written in a regex-like way."
   ]
  },
  {
   "cell_type": "markdown",
   "metadata": {},
   "source": [
    "# Let's try to mimic\n",
    "One possible example of a Snort rule is:\n",
    "\n",
    "> ```alert tcp 192.168.x.x any -> 172.16.x.x 49535 (msg:”We won't allow this socket”; sid:1000002; rev:1;)```\n",
    "\n",
    "In a more human language this could be loosely translate to\n",
    "\n",
    "> all **TCP** traffic that comes from an IP address with **192** and **168** as first bytes, and that comes from **any given port**; AND that goes **to** an IP address that starts with **172.16** to **port 49535** should be alerted to the security engineer"
   ]
  },
  {
   "cell_type": "markdown",
   "metadata": {},
   "source": [
    "The Snort software builds a set of regexes to check all its rules, like the one above. Incoming traffic is then matched with all the regexes of the rule-set. \n",
    "\n",
    "It is important to understand that **tcp** (in the example above) already implies a number of things. As TCP is used at the transport layer, it implies that the network layer is IPv4. *For the sake of completeness* it is mentioned that TCP can also be used in combination with other algorithms (e.g. IPv6), but in this workshop we assume the typical Internet traffic.\n",
    "\n",
    "One could be tempted to check byte number 24 (or 23 when starting at index 0) in a frame. This byte defines which transport layer protocol is chosen. Although that is valid deduction, it is not complete. Byte number 24 only defines the transport layer protocol **IF** IPv4 is used as the networking layer protocol **AND** if Ethernet is used as the link layer protocol.\n",
    "\n",
    "If other protocols are used, then \n",
    "\n",
    "* byte number 24 might represent something different;\n",
    "* the protocol field might still exist in another location than byte 24.\n",
    "\n",
    "The subsequent checks that have to be done are shown in the flow chart below.\n",
    "\n",
    "<center>\n",
    "<img src=\"images/11_flow.png\"/>\n",
    "</center>\n",
    "\n",
    "Now let's try to achieve this in Python with the available dataset. First we start by loading all required variables. **Don't forget to run this block prior to the rest.**"
   ]
  },
  {
   "cell_type": "code",
   "execution_count": 5,
   "metadata": {},
   "outputs": [],
   "source": [
    "from lib.dataset import NIDSDataset\n",
    "\n",
    "data_file = 'data/dataset_packets_v1.npy'\n",
    "labels_file = 'data/dataset_labels_v1.npy'\n",
    "\n",
    "dataset = NIDSDataset(data_file, labels_file)"
   ]
  },
  {
   "cell_type": "markdown",
   "metadata": {},
   "source": [
    "The next step is to distinguish which frames use the TCP protocol. Running the code below will tell you how many frames are analysed and how many of them are IPv4 frames and/or TCP frames.\n",
    "\n",
    "In the exercise below you should parse every incoming word and increment the variables **number_of_ipv4_frames** and **number_of_tcp_frames** accordingly. Don't forget the [section](01_readingframes.ipynb#Parsing-the-dataset) where the parsing is introduced. And finally, don't use regexes in this exercise."
   ]
  },
  {
   "cell_type": "code",
   "execution_count": 6,
   "metadata": {},
   "outputs": [
    {
     "name": "stdout",
     "output_type": "stream",
     "text": [
      "\n",
      "We've received 1314 frames\n",
      "\tIPv4: 0 frames\n",
      "\t\tTCP: 0 frames\n"
     ]
    }
   ],
   "source": [
    "framecounter = 0\n",
    "number_of_ipv4_frames = 0\n",
    "number_of_tcp_frames = 0\n",
    "\n",
    "# loop over all datasets\n",
    "for d in dataset:\n",
    "\n",
    "    wordcounter = 0\n",
    "\n",
    "    # loop over all words\n",
    "    for word in d:\n",
    "        # examine Ethertype - in link layer header\n",
    "        # if the Ethertype field is not 0x0800, the frame is allowed\n",
    "                \n",
    "        # examine Protocol - in network layer header\n",
    "        # if the Protocol field is not 0x6, the frame is allowed\n",
    "\n",
    "        # examine Source Address - in network layer header\n",
    "        # if the first to source address fields are not 192 and 126,\n",
    "        #   the frame is allowed\n",
    "\n",
    "        # examine Destination Address - in network layer header\n",
    "        # if the first to destination address fields are not 172 and\n",
    "        #   16, the frame is allowed\n",
    "\n",
    "        # examine Destination port - in transport layer header\n",
    "        # if the destination port fields are not 49535, the \n",
    "        #   frame is allowed\n",
    "\n",
    "        # print(word, end='')\n",
    "        wordcounter += 1\n",
    "    \n",
    "    # end of iteration over words\n",
    "    framecounter += 1\n",
    "# end of iteration over datasets\n",
    "\n",
    "# print summary\n",
    "print(\"\\nWe've received %d frames\" % framecounter)\n",
    "print(\"\\tIPv4: %d frames\" % number_of_ipv4_frames)\n",
    "print(\"\\t\\tTCP: %d frames\" % number_of_tcp_frames)\n"
   ]
  },
  {
   "cell_type": "markdown",
   "metadata": {},
   "source": [
    "<center><div style=\"background-color: #10FF107f;\">The code above should report that there are <b>1314 frames</b> in the dataset of which <b>1214</b> are IPv4(<b>904</b>x TCP, 296x UDP, and 14x ICMP). The remaining 100 bits are ARP.</div></center>"
   ]
  },
  {
   "cell_type": "markdown",
   "metadata": {},
   "source": [
    "With the acquired parsing, it should be possible to filter the dataset with the example rule from the beginning of this notebook :\n",
    "\n",
    "> all TCP traffic that comes from an IP address with 192 and 168 as first bytes, and that comes from any given port; AND that goes to an IP address that starts with 172.16 to port 49535 should be alerted to the security engineer\n",
    "\n",
    "Parse the incoming network stream again and also determine how many packets can be allowed through and for how many packets an *alert* has to be raised."
   ]
  },
  {
   "cell_type": "code",
   "execution_count": 7,
   "metadata": {},
   "outputs": [
    {
     "name": "stdout",
     "output_type": "stream",
     "text": [
      "\n",
      "We've received 1314 frames\n",
      "\tIPv4: 0 frames\n",
      "\t\tTCP: 0 frames\n",
      "We've decided\n",
      "\tok frames: 0 frames\n",
      "\talert frames: 0 frames\n"
     ]
    }
   ],
   "source": [
    "framecounter = 0\n",
    "number_of_ipv4_frames = 0\n",
    "number_of_tcp_frames = 0\n",
    "\n",
    "decision_pass = 0\n",
    "decision_alert = 0\n",
    "\n",
    "# loop over all datasets\n",
    "for d in dataset:\n",
    "\n",
    "    wordcounter = 0\n",
    "\n",
    "    # loop over all words\n",
    "    for word in d:\n",
    "        # examine Ethertype - in link layer header\n",
    "        # if the Ethertype field is not 0x0800, the frame is allowed\n",
    "                \n",
    "        # examine Protocol - in network layer header\n",
    "        # if the Protocol field is not 0x6, the frame is allowed\n",
    "\n",
    "        # examine Source Address - in network layer header\n",
    "        # if the first to source address fields are not 192 and 126,\n",
    "        #   the frame is allowed\n",
    "\n",
    "        # examine Destination Address - in network layer header\n",
    "        # if the first to destination address fields are not 172 and\n",
    "        #   16, the frame is allowed\n",
    "\n",
    "        # examine Destination port - in transport layer header\n",
    "        # if the destination port fields are not 49535, the \n",
    "        #   frame is allowed\n",
    "\n",
    "        # print(word, end='')\n",
    "        wordcounter += 1\n",
    "    \n",
    "    # end of iteration over words\n",
    "    framecounter += 1\n",
    "# end of iteration over datasets\n",
    "\n",
    "# print summary\n",
    "print(\"\\nWe've received %d frames\" % framecounter)\n",
    "print(\"\\tIPv4: %d frames\" % number_of_ipv4_frames)\n",
    "print(\"\\t\\tTCP: %d frames\" % number_of_tcp_frames)\n",
    "print(\"We've decided\")\n",
    "print(\"\\tok frames: %d frames\" % decision_pass)\n",
    "print(\"\\talert frames: %d frames\" % decision_alert)"
   ]
  },
  {
   "cell_type": "markdown",
   "metadata": {},
   "source": [
    "<center><div style=\"background-color: #10FF107f;\">The code above should report that <b>1308</b> frames are ok and for <b>6</b> frames an alert should be raised.</div></center>"
   ]
  },
  {
   "cell_type": "markdown",
   "metadata": {},
   "source": [
    "<hr/>\n",
    "<center>\n",
    "Continue with the <a href=\"12_regexes.ipynb\">next notebook</a> in a new browser tab.<br/><br/>\n",
    "<img src=\"images/footer.png\"/>\n",
    "</center>"
   ]
  }
 ],
 "metadata": {
  "kernelspec": {
   "display_name": "Python 3 (ipykernel)",
   "language": "python",
   "name": "python3"
  },
  "language_info": {
   "codemirror_mode": {
    "name": "ipython",
    "version": 3
   },
   "file_extension": ".py",
   "mimetype": "text/x-python",
   "name": "python",
   "nbconvert_exporter": "python",
   "pygments_lexer": "ipython3",
   "version": "3.8.10"
  }
 },
 "nbformat": 4,
 "nbformat_minor": 2
}
