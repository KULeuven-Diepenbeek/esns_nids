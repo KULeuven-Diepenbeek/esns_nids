{
 "cells": [
  {
   "cell_type": "markdown",
   "metadata": {},
   "source": [
    "# NIDS based on Network Flow Measurements"
   ]
  },
  {
   "cell_type": "markdown",
   "metadata": {},
   "source": [
    "### Are previous data structures really hardware friendly?\n",
    "\n",
    "Even though hash tables and collision resistant mechanisms such as linked lists are nice solutions, linked lists are not tailored for hardware.  Also, one-to-one mapping requires a considerable amount memory as the number of encountered flows could be in millions. \n",
    "\n",
    "A hardware friendly alternative is to use **sketches**, which additionally have some built-in collision resistance mechanisms. Instead of one-to-one mapping, one single flow is mapped to multiple counters and each counter is shared by multiple flows in the case of collisions. Sketches require less memory as the flowIDs don't have to be stored. As for the downside of using sketches, there is a possibility of overestimation."
   ]
  },
  {
   "cell_type": "markdown",
   "metadata": {},
   "source": [
    "### CM Sketch\n",
    "\n",
    "A CM sketch is represented by a 2D array of counters with width w and depth d. The depth corresponds to the number of hash functions that is used.\n",
    "\n",
    "<center>\n",
    "<img src=\"images/counting/CM_sketch.png\"/>\n",
    "</center>\n",
    "\n",
    "In the example above, h<sub>1</sub>, h<sub>2</sub>,...,h<sub>d</sub> are independent hash values on the FlowID *f1*. Each FlowID is mapped to *d* counters in the sketch during an update operation. When the CM sketch is queried the minimum of all the *d* counters is given as result."
   ]
  },
  {
   "cell_type": "code",
   "execution_count": 1,
   "metadata": {},
   "outputs": [],
   "source": [
    "#Load dataset\n",
    "import import_ipynb\n",
    "from lib.dataset import NIDSDataset\n",
    "\n",
    "data_file = 'data/dataset_packets_v2.npy'\n",
    "labels_file = 'data/dataset_labels_v1.npy'\n",
    "\n",
    "dataset = NIDSDataset(data_file, labels_file)"
   ]
  },
  {
   "cell_type": "markdown",
   "metadata": {},
   "source": [
    "#### Implementing CM Sketch"
   ]
  },
  {
   "cell_type": "markdown",
   "metadata": {},
   "source": [
    "#### Exercise 21.1a"
   ]
  },
  {
   "cell_type": "code",
   "execution_count": 2,
   "metadata": {},
   "outputs": [],
   "source": [
    "import array\n",
    "import hashlib\n",
    "\"\"\" CM Sketch parameters and functions  \"\"\"    \n",
    "m = 16\n",
    "d = 4\n",
    "\n",
    "#initializes an empty 2-d array\n",
    "tables = []\n",
    "for i in range(d):\n",
    "    table = array.array(\"l\", (0 for i in range(m))) # \"l\" is the typecode indicating that the type is signed long\n",
    "    tables.append(table)\n",
    "    \n",
    "# Here, instead of using d independant hashes, the output of md5 hash is split into d hash values.\n",
    "def _hash(flowid):\n",
    "    \"\"\" hash computation \"\"\"\n",
    "    m=16\n",
    "    d=4\n",
    "    md5 = hashlib.md5(str(hash(flowid)).encode('utf-8'))\n",
    "    for i in range(d):\n",
    "        md5.update(str(i).encode('utf-8'))\n",
    "        yield int(md5.hexdigest(), 16) % m # yield gives a generator object and has to be iterated to read the values.\n",
    "        \n",
    "def add_cms(flowid, value):\n",
    "    \"\"\"Add a value to hashtable by its key and update the contents if the cell is not empty\"\"\"\n",
    "    # get the d indexed locations of the sketch by hashing. Uncomment 'indices =' and complete the code.\n",
    "    \"\"\"WRITE code here \"\"\" \n",
    "    # indices = \n",
    "    \n",
    "    # Iterate through tables and indices and update the value stored in each indexed location\n",
    "    # Whether the location is empty or not, just add the value to the already existing value\n",
    "    for table, i in zip(tables,indices):\n",
    "        \"\"\" WRITE Code here \"\"\"\n",
    "        \n",
    "\n",
    "def query_cms(flowid):\n",
    "    \"\"\"Get a value by key\"\"\"\n",
    "    # get the d indexed locations of the sketch by hashing. Uncomment 'indices =' and complete the code.\n",
    "    \"\"\"WRITE code here \"\"\" \n",
    "    # indices = \n",
    "    \n",
    "    \n",
    "    # Iterate through tables and indices and return the minimum of the values stored in the indexed locations\n",
    "    \"\"\" WRITE Code \"\"\"\n",
    "    \n"
   ]
  },
  {
   "cell_type": "markdown",
   "metadata": {},
   "source": [
    "#### Exercise 21.1b"
   ]
  },
  {
   "cell_type": "code",
   "execution_count": 3,
   "metadata": {},
   "outputs": [],
   "source": [
    "\"\"\" Now, reading the dataset again to update the hashtable. you can Copy and \"\"\"\n",
    "\"\"\" paste the code from the previous Exercise. \"\"\"\n",
    "\n",
    "wordcounter=0\n",
    "flowid = \"\"     # flow id\n",
    "flowvolume = \"\" # flow volume\n",
    "flowlist = []  # keeps a list to store flows\n",
    "\n",
    "# loop over all datasets\n",
    "for d in dataset:\n",
    "\n",
    "    decision_is_made = 0 # decision_is_made = 1 when ethertype is not 0x0800 or packet is neither TCP nor UDP\n",
    "                         # decision_is_made = 2 when the flow ID is extracted\n",
    "    wordcounter = 0\n",
    "    flowid = \"\"\n",
    "    flowvolume = \"\"\n",
    "\n",
    "    # loop over all words\n",
    "    for word in d:\n",
    "        # stop parsing if a decission is made\n",
    "        if decision_is_made == 0:\n",
    "\n",
    "            # examine if Ethertype is 0x0800 - in link layer header\n",
    "            # if Ethertype is not equal to 0x0800, break loop\n",
    "            \"\"\"WRITE code here\"\"\"\n",
    "            \n",
    "            # examine if proto is tcp or udp 6/17 - in network layer header\n",
    "            # if proto is not tcp or udp, break loop\n",
    "            \"\"\"WRITE code here\"\"\"\n",
    "            \n",
    "                    \n",
    "            # extract Total length (flow volume) - in network layer header\n",
    "            # hint: convert to hex and concatanate the bytes\n",
    "            \"\"\"WRITE code here\"\"\"\n",
    "            \n",
    "                \n",
    "            # Extract flowid. flowid is (sorce address, dest address, source port, dest port)\n",
    "            # hint: convert to hex and remove 0x. concatanate the addresses and ports\n",
    "            \n",
    "            # extract Source Address - in network layer header\n",
    "            \"\"\"WRITE code here\"\"\"\n",
    "            \n",
    "\n",
    "            # extract Destination Address - in network layer header\n",
    "            \"\"\"WRITE code here\"\"\"\n",
    "            \n",
    "            \n",
    "            # extract source port estination port - in network layer header\n",
    "            \"\"\"WRITE code here\"\"\"\n",
    "            \n",
    "\n",
    "            # examine Destination port - in transport layer header\n",
    "            # If the flowid is complete, break out of the loop\n",
    "            \"\"\" WRITE code here \"\"\"\n",
    "            \n",
    "            \n",
    "        wordcounter += 1\n",
    "        \n",
    "    # Convert the flow volume to integer\n",
    "    \"\"\" WRITE code here \"\"\"\n",
    "    \n",
    "        \n",
    "    if flowid not in flowlist:\n",
    "        flowlist.append(flowid)\n",
    "\n",
    "    \"\"\" Updating the table \"\"\"\n",
    "    # Here we are taking the actual flow volume to update\n",
    "    \"\"\"WRITE code here \"\"\"\n",
    "    # add flowid and flowvolume to the cm sketch using the function\n",
    "    \n",
    "            "
   ]
  },
  {
   "cell_type": "markdown",
   "metadata": {},
   "source": [
    "#### Checking for anomalies"
   ]
  },
  {
   "cell_type": "markdown",
   "metadata": {},
   "source": [
    "#### Exercise 21.1c"
   ]
  },
  {
   "cell_type": "code",
   "execution_count": 4,
   "metadata": {},
   "outputs": [
    {
     "data": {
      "text/plain": [
       "' WRITE code here '"
      ]
     },
     "execution_count": 4,
     "metadata": {},
     "output_type": "execute_result"
    }
   ],
   "source": [
    "\"\"\"Print the flow IDs that exceeds a threshold\"\"\"\n",
    "threshold = 600\n",
    "\n",
    "# iterate through the flowlist and print those flowids having total volume greater than the threshold\n",
    "\"\"\" WRITE code here \"\"\"\n",
    "\n"
   ]
  },
  {
   "cell_type": "markdown",
   "metadata": {},
   "source": [
    "### Some extra info\n",
    "Checking whether the threshold is exceeded can be done during the update itself and thereby the malicious flow id can be blacklisted in real-time. \n",
    "\n",
    "To see how the collisions cause overestimation in CM Sketch, change the value of m to 16 in 21.1a (You have to make changes in two places - in line 4, and in _hash function.), and then rerun the exercises 21.1a and 21.1b. Then Run 21.1d below to check the difference. (DO NOT run the cell 21.1c again. Keep the result there so that we can compare the results of 21.1c and 21.1d)"
   ]
  },
  {
   "cell_type": "markdown",
   "metadata": {},
   "source": [
    "#### Exercise 20.4d"
   ]
  },
  {
   "cell_type": "code",
   "execution_count": 5,
   "metadata": {},
   "outputs": [
    {
     "data": {
      "text/plain": [
       "' WRITE code here '"
      ]
     },
     "execution_count": 5,
     "metadata": {},
     "output_type": "execute_result"
    }
   ],
   "source": [
    "\"\"\"Print the flow IDs that exceeds a threshold\"\"\"\n",
    "threshold = 600\n",
    "\n",
    "# iterate through the flowlist and print those flowids having total volume greater than the threshold\n",
    "\"\"\" WRITE code here \"\"\"\n",
    "\n"
   ]
  },
  {
   "cell_type": "markdown",
   "metadata": {},
   "source": [
    "We can see that one more flowid is marked as malicious, even though it is not. This is because of overestimation and this overestimation can cause false positives."
   ]
  },
  {
   "cell_type": "markdown",
   "metadata": {},
   "source": [
    "<hr/>\n",
    "<center>\n",
    "Continue with the <a href=\"30_machine_learning.ipynb\">next notebook</a> in a new browser tab.<br/><br/>\n",
    "<img src=\"images/footer.png\"/>\n",
    "</center>"
   ]
  },
  {
   "cell_type": "code",
   "execution_count": null,
   "metadata": {},
   "outputs": [],
   "source": []
  }
 ],
 "metadata": {
  "kernelspec": {
   "display_name": "Python 3",
   "language": "python",
   "name": "python3"
  },
  "language_info": {
   "codemirror_mode": {
    "name": "ipython",
    "version": 3
   },
   "file_extension": ".py",
   "mimetype": "text/x-python",
   "name": "python",
   "nbconvert_exporter": "python",
   "pygments_lexer": "ipython3",
   "version": "3.7.3"
  }
 },
 "nbformat": 4,
 "nbformat_minor": 2
}
