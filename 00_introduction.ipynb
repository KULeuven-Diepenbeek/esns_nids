{
 "cells": [
  {
   "cell_type": "markdown",
   "id": "01735f31",
   "metadata": {},
   "source": [
    "# Welcome\n"
   ]
  },
  {
   "cell_type": "markdown",
   "id": "7e8e0fa3",
   "metadata": {},
   "source": [
    "This Jupyter Notebook will help those that have never used this system before. \n",
    "\n",
    "**Project Jupyter** has been around for almost a decade and aims to *develop open-source software, (...) for interactive computing ... \"*. It is often used as a frontend interface for cloud users. In these labs we're going to use *Jupyter Notebooks* for two goals:\n",
    "* providing you the necessary guidelines an underlying principles and ideas;\n",
    "* providing you an environment to execute the exercises.\n",
    "\n",
    "All the code for these labs will be written in **python**.\n",
    "\n",
    "In the cell below, python code written and executed. You can distinguish executable blocks from others by the number in square brackets in front of the cell. To execute the code you can hit the play button, or CTRL+ENTER in the cell. Let's start off by doing the traditional greetings to the world. "
   ]
  },
  {
   "cell_type": "code",
   "execution_count": 1,
   "id": "5ed6a256",
   "metadata": {},
   "outputs": [
    {
     "name": "stdout",
     "output_type": "stream",
     "text": [
      "Hello world!\n"
     ]
    }
   ],
   "source": [
    "print(\"Hello world!\")"
   ]
  },
  {
   "cell_type": "markdown",
   "id": "21c746a9",
   "metadata": {},
   "source": [
    "If you executed the code above, the feedback of Python should be displayed. Now that we have greeted the world, we can continue."
   ]
  },
  {
   "cell_type": "markdown",
   "id": "64343da7",
   "metadata": {},
   "source": [
    "# Organization of the workshop\n",
    "\n",
    "This workshop consists out of 3 parts. All three start with a [notebook](01_readingframes.ipynb) on *Reading network frames as if you were a hardware component*. With these network frames \n",
    "\n",
    "\n",
    "* [PART 0](01_readingframes.ipynb): Reading network frames as if you were a hardware component;\n",
    "* PART 1: Parsing network frames to match a modest set of regexes;\n",
    "* PART 2: Parsing network frames to extract *flow IDs* which are matched to a *maximum volume*;\n",
    "* PART 3: Parsing network frames to feed them to <s>the sharks</s> a trained Neural Network."
   ]
  },
  {
   "cell_type": "markdown",
   "id": "1e7025db",
   "metadata": {},
   "source": [
    "<hr/>\n",
    "<center>\n",
    "Continue with the <a href=\"01_readingframes.ipynb\">next notebook</a> in a new browser tab.<br/><br/>\n",
    "<img src=\"images/footer.png\"/>\n",
    "</center>"
   ]
  }
 ],
 "metadata": {
  "kernelspec": {
   "display_name": "Python 3 (ipykernel)",
   "language": "python",
   "name": "python3"
  },
  "language_info": {
   "codemirror_mode": {
    "name": "ipython",
    "version": 3
   },
   "file_extension": ".py",
   "mimetype": "text/x-python",
   "name": "python",
   "nbconvert_exporter": "python",
   "pygments_lexer": "ipython3",
   "version": "3.8.10"
  }
 },
 "nbformat": 4,
 "nbformat_minor": 5
}
