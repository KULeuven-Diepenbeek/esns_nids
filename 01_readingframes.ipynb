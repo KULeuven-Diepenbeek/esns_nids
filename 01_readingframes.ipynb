{
 "cells": [
  {
   "cell_type": "markdown",
   "metadata": {},
   "source": [
    "# Reading network frames as if you were a hardware component"
   ]
  },
  {
   "cell_type": "markdown",
   "metadata": {},
   "source": [
    "## Encapsulation of different networking protocols\n",
    "\n",
    "On any network messages are sent as frames. These frames travel over a physical medium (e.g. copper wire, EM radiation (WiFi), ...). When they arrive at a network host, they have to be interpreted and passed on the next component in the chain.\n",
    "\n",
    "![Simple network](images/01_network.png)\n",
    "\n",
    "From a **Networking 101** course (or by common sense ) you should know that files or other datasets are fragmented in a set of frames that are sent one-by-one over the chosen medium. In order to manage this massive amount data that is being sent, different networking protocols are used.\n",
    "\n",
    "These different network protocols typically encapsulate each other. All of these *layers* work in a similar fashion: first they provide meta-data in a **header**; next follows the **payload**. The payload of one layer contains the entire part of the next layer, which again consists of a header and a payload. This concept continues similar to [Rusian Matryoshka dolls](https://en.wikipedia.org/wiki/Matryoshka_doll).\n",
    "\n",
    "![Simple network](images/01_encaps.png)\n",
    "\n",
    "The image above shows a simplified version of the **encapsulation** of the different layers. One important remark to make is that one of the fields in a header sections defines which protocol is used in its payload. This we will use heavily :)"
   ]
  },
  {
   "cell_type": "markdown",
   "metadata": {},
   "source": [
    "## Reading the frame\n",
    "\n",
    "As we are not the first people on the globe that are making hardware for sending and receiving network frames, a lot of components already exists to *translate* the symbols on the physical layer to digital signals. The incoming data is often presented through some bus, which can typically be 8, 32 or even 64 bits. This can be even higher when you're looking at networking hardware in server rooms."
   ]
  }
 ],
 "metadata": {
  "interpreter": {
   "hash": "916dbcbb3f70747c44a77c7bcd40155683ae19c65e1c03b4aa3499c5328201f1"
  },
  "kernelspec": {
   "display_name": "Python 3.8.10 64-bit",
   "language": "python",
   "name": "python3"
  },
  "language_info": {
   "name": "python",
   "version": "3.8.10"
  },
  "orig_nbformat": 4
 },
 "nbformat": 4,
 "nbformat_minor": 2
}
