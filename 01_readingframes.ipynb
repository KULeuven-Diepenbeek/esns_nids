{
 "cells": [
  {
   "cell_type": "markdown",
   "metadata": {},
   "source": [
    "# Reading network frames as if you were a hardware component"
   ]
  },
  {
   "cell_type": "markdown",
   "metadata": {},
   "source": [
    "## Encapsulation of different networking protocols\n",
    "\n",
    "On any network messages are sent as frames. These frames travel over a physical medium (e.g. copper wire, EM radiation (WiFi), ...). When they arrive at a network host, they have to be interpreted and passed on the next component in the chain.\n",
    "\n",
    "![Simple network](images/01_network.png)\n",
    "\n",
    "From a **Networking 101** course (or by common sense ) you should know that files or other datasets are fragmented in a set of frames that are sent one-by-one over the chosen medium. In order to manage this massive amount data that is being sent, different networking protocols are used.\n",
    "\n",
    "These different network protocols typically encapsulate each other. All of these *layers* work in a similar fashion: first they provide meta-data in a **header**; next follows the **payload**. The payload of one layer contains the entire part of the next layer, which again consists of a header and a payload. This concept continues similar to [Rusian Matryoshka dolls](https://en.wikipedia.org/wiki/Matryoshka_doll).\n",
    "\n",
    "![Simple network](images/01_encaps.png)\n",
    "\n",
    "The image above shows a simplified version of the **encapsulation** of the different layers. One important remark to make is that one of the fields in a header sections defines which protocol is used in its payload. This we will use heavily :)"
   ]
  },
  {
   "cell_type": "markdown",
   "metadata": {},
   "source": [
    "## Reading the frame\n",
    "\n",
    "As we are not the first people on the globe that are making hardware for sending and receiving network frames, a lot of components already exists to *translate* the symbols on the physical layer to digital signals. The incoming data is often presented through some bus, which can typically be 8, 32 or even 64 bits. This can be even higher when you're looking at networking hardware in server rooms.\n",
    "\n",
    "So we will be looking at the network data on a 32-bit hexadecimal word level."
   ]
  },
  {
   "cell_type": "code",
   "execution_count": 2,
   "metadata": {},
   "outputs": [
    {
     "name": "stdout",
     "output_type": "stream",
     "text": [
      "9cb6d0c2\n"
     ]
    }
   ],
   "source": [
    "word = \"9cb6d0c2\"\n",
    "print(word)"
   ]
  },
  {
   "cell_type": "markdown",
   "metadata": {},
   "source": [
    "The network traffic that will be analysed is stored in a file. Every line of the file contains a single 32-bit word. To mark the end of a frame, a line containing \"Zzz\" is used.\n",
    "\n",
    "Running the code below will read and print every word in the file."
   ]
  },
  {
   "cell_type": "code",
   "execution_count": null,
   "metadata": {},
   "outputs": [],
   "source": [
    "# open the file\n",
    "f = open (\"data/test.txt\", \"r\")\n",
    "\n",
    "# loop over all the lines\n",
    "for l in f:\n",
    "    print(\"%s\" % l[0:-1])\n",
    "\n",
    "# close the file\n",
    "f.close()"
   ]
  },
  {
   "cell_type": "markdown",
   "metadata": {},
   "source": [
    "Note that the code above prints the line *l* with indices ranging from 0 to -1. The reason this is done is that there is a **newline** character (a '\\n') at the end of every line. To make our lives a bit easier, we remove that character.\n",
    "\n",
    "Now it's time to roll-up your sleeves and get digging. Modify the code below so it only starts a new line of output when a \"Zzz\" is found. Solutions to the labs will provided (later). Every exercise has as number so you can easily find the corresponding solution. \n",
    "<div style=\"background-color: #2962ff; color: white; text-align: center; padding: 10px 0px;\">This is exercise <b>ex_0101</b>.</div> "
   ]
  },
  {
   "cell_type": "code",
   "execution_count": null,
   "metadata": {},
   "outputs": [],
   "source": [
    "# open the file\n",
    "f = open (\"data/test.txt\", \"r\")\n",
    "\n",
    "# loop over all the lines\n",
    "for l in f:\n",
    "    print(\"%s\" % l[0:-1])\n",
    "\n",
    "# close the file\n",
    "f.close()"
   ]
  }
 ],
 "metadata": {
  "interpreter": {
   "hash": "916dbcbb3f70747c44a77c7bcd40155683ae19c65e1c03b4aa3499c5328201f1"
  },
  "kernelspec": {
   "display_name": "Python 3.8.10 64-bit",
   "language": "python",
   "name": "python3"
  },
  "language_info": {
   "codemirror_mode": {
    "name": "ipython",
    "version": 3
   },
   "file_extension": ".py",
   "mimetype": "text/x-python",
   "name": "python",
   "nbconvert_exporter": "python",
   "pygments_lexer": "ipython3",
   "version": "3.8.10"
  },
  "orig_nbformat": 4
 },
 "nbformat": 4,
 "nbformat_minor": 2
}
