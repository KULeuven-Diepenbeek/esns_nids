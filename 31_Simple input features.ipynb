{
 "cells": [
  {
   "cell_type": "markdown",
   "id": "79db9ebd",
   "metadata": {},
   "source": [
    "## ML for simple input features\n",
    "\n",
    "### Problem\n",
    "One of the typical challenges in ML is feature selection: Which features will be used characterize the input samples and train the models? The features should be representative, contain sufficient information for the model to be able to make an informed decision, but should also avoid redundancy or useless information. Therefore, traditional features for NIDS include:\n",
    "\n",
    "- The IPv4 source and destination addresses;\n",
    "- The TCP source and destination ports;\n",
    "- Statistics on the number of packets/bytes in a network flow (count, average, STD, duration, ...);\n",
    "- Network flags (e.g. TCP flags);\n",
    "- ...\n",
    "\n",
    "Typically, these features are provided alongside the raw network traffic data in a dataset. Most ML and DL models therefor use those features for training models, obtaining excellent results. This approach however has some considerable drawbacks:\n",
    "\n",
    "- Different datasets provide different features, complicating inter-dataset comparison;\n",
    "- Extracting these features requires significant preprocessing of raw traffic data.\n",
    "\n",
    "While the first point is more of a general concern, the second is especially relevant when dealing with hardware: When dealing with high-speed real-time network traffic, there are only limited resources available for dealing with feature extraction. This calls for either optimized routines to extract a limited number of specific features, or for an alternative.\n",
    "\n",
    "\n",
    "### Alternative: Raw traffic-based features\n",
    "One alternative is to use the raw input traffic itself as features, instead of deriving the features from the traffic. This is what we will do in this notebook."
   ]
  },
  {
   "cell_type": "code",
   "execution_count": null,
   "id": "625e8aa4",
   "metadata": {},
   "outputs": [],
   "source": [
    "import torch\n",
    "from lib.nn_models import ExampleCNN1D1x64\n",
    "\n",
    "model = ExampleCNN1D4x64(13)\n",
    "\n",
    "# Load the trained parameters\n",
    "\n",
    "\n",
    "# Set the Batch Normalization layers for inference\n",
    "model.eval()"
   ]
  }
 ],
 "metadata": {
  "kernelspec": {
   "display_name": "Python 3 (ipykernel)",
   "language": "python",
   "name": "python3"
  },
  "language_info": {
   "codemirror_mode": {
    "name": "ipython",
    "version": 3
   },
   "file_extension": ".py",
   "mimetype": "text/x-python",
   "name": "python",
   "nbconvert_exporter": "python",
   "pygments_lexer": "ipython3",
   "version": "3.8.12"
  }
 },
 "nbformat": 4,
 "nbformat_minor": 5
}
