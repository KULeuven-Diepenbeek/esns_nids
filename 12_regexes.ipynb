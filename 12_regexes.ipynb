{
 "cells": [
  {
   "cell_type": "markdown",
   "metadata": {},
   "source": [
    "# Snort (continued)\n",
    "\n",
    "This final exercise will guide you in implementing one (simplified) Snort rule from the **ruleset community**.\n",
    "\n",
    "> ```alert tcp $EXTERNAL_NET any -> $HOME_NET $HTTP_PORTS (msg:\"APP-DETECT Acunetix web vulnerability scanner authentication attempt\"; flow:to_server,established; http_uri; content:\"password=g00dPa$$w0rD\", fast_pattern, nocase; metadata:ruleset community; service:http; reference:url,www.acunetix.com; classtype:web-application-attack; sid:25360; rev:2; )```\n",
    "\n",
    "As this a realistic rule, it also a more complex. Most of the *static* conditions we will ignore and we will focus on the regular expression. The rule will be simplified to: \n",
    "\n",
    "> all **TCP** traffic (irrespective of addresses and/or ports) that have in their TCP payload: **password=g00dPa$$w0rD** will be alerted to the security engineer.\n",
    "\n",
    "Try to go over the dataset again and count the number alerts that should be raised. Don't forget to run the code block below first."
   ]
  },
  {
   "cell_type": "code",
   "execution_count": 2,
   "metadata": {},
   "outputs": [],
   "source": [
    "from lib.dataset import NIDSDataset\n",
    "\n",
    "data_file = 'data/dataset_packets_v2.npy'\n",
    "labels_file = 'data/dataset_labels_v1.npy'\n",
    "\n",
    "dataset = NIDSDataset(data_file, labels_file)"
   ]
  },
  {
   "cell_type": "markdown",
   "metadata": {},
   "source": [
    "As you might know, there are standardised encodings to transfer characters to numbers and back. Searching for a string \"password=g00dPa$$w0rD\" can only be achieved if the correct coding is applied. To make your life a bit easier, this cumbersome task is done for you. \n",
    "\n",
    "<center>\n",
    "<img src=\"images/12_utf8_encoding.png\"/>\n",
    "</center>\n",
    "\n",
    "It is pointed out that for every character the corresponding 'inverted case' is also given. Also note that there is no difference between an upper-case and lower-case \\<space\\>.\n",
    "\n",
    "Although the Snort rule above dictates that this should be searched for, irrespective of the case (```nocase```), you can start with ignoring this: just search literally for the string. If you have additional time to spend, try make your parsing case-insensitive."
   ]
  },
  {
   "cell_type": "code",
   "execution_count": 3,
   "metadata": {},
   "outputs": [
    {
     "name": "stdout",
     "output_type": "stream",
     "text": [
      "\n",
      "We've received 1314 frames\n",
      "\t0 alerts are given\n"
     ]
    }
   ],
   "source": [
    "framecounter = 0\n",
    "number_of_alerts = 0\n",
    "pattern = \"password=g00dPa$$w0rD\"\n",
    "\n",
    "# loop over all datasets\n",
    "for d in dataset:\n",
    "\n",
    "    wordcounter = 0\n",
    "\n",
    "    # loop over all words\n",
    "    for word in d:\n",
    "        \n",
    "        wordcounter += 1\n",
    "    \n",
    "    # end of iteration over words\n",
    "    framecounter += 1\n",
    "# end of iteration over datasets\n",
    "\n",
    "# print summary\n",
    "print(\"\\nWe've received %d frames\" % framecounter)\n",
    "print(\"\\t%d alerts are given\" % number_of_alerts)\n"
   ]
  },
  {
   "cell_type": "markdown",
   "metadata": {},
   "source": [
    "<center><div style=\"background-color: #10FF107f;\">The code above should report that there are 130 frames in the dataset. All of which are IPv4 and TCP.</div></center>"
   ]
  },
  {
   "cell_type": "markdown",
   "metadata": {},
   "source": [
    "<hr/>\n",
    "<center>\n",
    "Continue with the <a href=\"20_counting.ipynb\">next notebook</a> in a new browser tab.<br/><br/>\n",
    "<img src=\"images/footer.png\"/>\n",
    "</center>"
   ]
  }
 ],
 "metadata": {
  "kernelspec": {
   "display_name": "Python 3 (ipykernel)",
   "language": "python",
   "name": "python3"
  },
  "language_info": {
   "codemirror_mode": {
    "name": "ipython",
    "version": 3
   },
   "file_extension": ".py",
   "mimetype": "text/x-python",
   "name": "python",
   "nbconvert_exporter": "python",
   "pygments_lexer": "ipython3",
   "version": "3.8.10"
  }
 },
 "nbformat": 4,
 "nbformat_minor": 2
}
