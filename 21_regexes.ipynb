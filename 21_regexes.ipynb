{
 "cells": [
  {
   "cell_type": "markdown",
   "metadata": {},
   "source": [
    "# Snort\n",
    "\n",
    "The reason why regular expressions are popular is that they are extremely powerful. The industry-standard for NIDS (and Network Intrusion Protection System (NIPS)) in software is [Snort](https://www.snort.org/). Snort uses roughly 3500 **rules** which filter malicious traffic. These rules are written in a regex-like way."
   ]
  },
  {
   "cell_type": "markdown",
   "metadata": {},
   "source": [
    "# Let's try to mimic\n",
    "One rule of the Snort rule-set is:\n",
    "\n",
    "> alert tcp 192.168.x.x any -> $HOME_NET 21 (msg:”FTP connection attempt”; sid:1000002; rev:1;)\n",
    "\n",
    "In a more human language this could be (loosely) translate as\n",
    "\n",
    "> all **TCP** traffic that comes from an IP address with **192** and **168** as first bytes, and that comes from **any given port**; AND that goes **to** my **home network** to **port 21** (which is the FTP port) should be alerted to the security engineer"
   ]
  }
 ],
 "metadata": {
  "kernelspec": {
   "display_name": "Python 3 (ipykernel)",
   "language": "python",
   "name": "python3"
  },
  "language_info": {
   "codemirror_mode": {
    "name": "ipython",
    "version": 3
   },
   "file_extension": ".py",
   "mimetype": "text/x-python",
   "name": "python",
   "nbconvert_exporter": "python",
   "pygments_lexer": "ipython3",
   "version": "3.8.10"
  }
 },
 "nbformat": 4,
 "nbformat_minor": 2
}
